{
  "nbformat": 4,
  "nbformat_minor": 0,
  "metadata": {
    "colab": {
      "name": "Gender_prediction_Survey.ipynb",
      "provenance": [],
      "authorship_tag": "ABX9TyPBTuHF2x00NaTli32YdA94",
      "include_colab_link": true
    },
    "kernelspec": {
      "name": "python3",
      "display_name": "Python 3"
    }
  },
  "cells": [
    {
      "cell_type": "markdown",
      "metadata": {
        "id": "view-in-github",
        "colab_type": "text"
      },
      "source": [
        "<a href=\"https://colab.research.google.com/github/vinayprabhu/Crimes_of_Vison_Datasets/blob/master/Notebooks/Gender_prediction_Survey.ipynb\" target=\"_parent\"><img src=\"https://colab.research.google.com/assets/colab-badge.svg\" alt=\"Open In Colab\"/></a>"
      ]
    },
    {
      "cell_type": "markdown",
      "metadata": {
        "id": "1asE1miSTZ1q",
        "colab_type": "text"
      },
      "source": [
        "So, there is a whole bunch of, ahem, 'gender estimators' on PyPi\n",
        "\n",
        "In this session, we use this notebook to explore the results of what constitutes the SoTA of this corner of NLP.\n",
        "\n",
        "(*Experiment away and please hold your questions to the post-talk session*)\n",
        "\n",
        "PyPi packages explored include:\n",
        "\n",
        "(1) gender-guesser 0.4.0 : https://pypi.org/project/gender-guesser/\n",
        "\n",
        "(2) gender-detector 0.1.0 : https://pypi.org/project/gender-detector/\n",
        "\n",
        "(3) Genderize 0.3.1 : Client for the Genderize.io web service : https://pypi.org/project/Genderize/\n",
        "\n",
        "(4) gender 0.0.27 : https://pypi.org/project/gender\n",
        "\n",
        "(5) speks 0.0.1 : https://pypi.org/project/speks/\n",
        "\n",
        "\n",
        "\n",
        "Notes: \n",
        "\n",
        "[1] The result will be one of unknown (name not found), andy (androgynous), male, female, mostly_male, or mostly_female. The difference between andy and unknown is that the former is found to have the same probability to be male than to be female, while the later means that the name wasn’t found in the database.\n",
        "\n",
        "[2] Datasets:\n",
        "\n",
        "- UK, from OpenGenderTracking project\n",
        "- US, from OpenGenderTracking project\n",
        "- AR, from Names query site from the goverment of the City of Buenos Aires. this is a small sample, use with precaution!.\n",
        "- UY, from Civil registry) in Montevideo. Same as in AR, Use with precaution!\n",
        "\n",
        "Speks: \n",
        "\n",
        "A packaged version, adapted to Python 3, of the TwitterGenderPredictor code by JT Wolohan, which itself is a Python 2 implementation of Sap et al.’s gender prediction algorithm for Twitter. SPEKS stands for Sap, Park, Eichstaedt, Kern and Stilwell, the first five writers of the paper describing the algorithm implemented here."
      ]
    },
    {
      "cell_type": "markdown",
      "metadata": {
        "id": "il-_a_XOTxM5",
        "colab_type": "text"
      },
      "source": [
        "# 1: Install from PyPi"
      ]
    },
    {
      "cell_type": "code",
      "metadata": {
        "id": "S5PzSIztTwPR",
        "colab_type": "code",
        "colab": {
          "base_uri": "https://localhost:8080/",
          "height": 224
        },
        "outputId": "36efe181-c9c7-4fab-a9c5-a93d558dff58"
      },
      "source": [
        "!pip install gender-guesser\n",
        "!pip install gender-detector\n",
        "!pip install Genderize\n",
        "!pip install gender\n",
        "!pip install speks"
      ],
      "execution_count": 1,
      "outputs": [
        {
          "output_type": "stream",
          "text": [
            "Requirement already satisfied: gender-guesser in /usr/local/lib/python3.6/dist-packages (0.4.0)\n",
            "Requirement already satisfied: gender-detector in /usr/local/lib/python3.6/dist-packages (0.1.0)\n",
            "Requirement already satisfied: Genderize in /usr/local/lib/python3.6/dist-packages (0.3.1)\n",
            "Requirement already satisfied: requests>=1.0.0 in /usr/local/lib/python3.6/dist-packages (from Genderize) (2.23.0)\n",
            "Requirement already satisfied: chardet<4,>=3.0.2 in /usr/local/lib/python3.6/dist-packages (from requests>=1.0.0->Genderize) (3.0.4)\n",
            "Requirement already satisfied: certifi>=2017.4.17 in /usr/local/lib/python3.6/dist-packages (from requests>=1.0.0->Genderize) (2020.6.20)\n",
            "Requirement already satisfied: urllib3!=1.25.0,!=1.25.1,<1.26,>=1.21.1 in /usr/local/lib/python3.6/dist-packages (from requests>=1.0.0->Genderize) (1.24.3)\n",
            "Requirement already satisfied: idna<3,>=2.5 in /usr/local/lib/python3.6/dist-packages (from requests>=1.0.0->Genderize) (2.10)\n",
            "Requirement already satisfied: gender in /usr/local/lib/python3.6/dist-packages (0.0.27)\n",
            "Requirement already satisfied: unidecode in /usr/local/lib/python3.6/dist-packages (from gender) (1.1.1)\n",
            "Requirement already satisfied: speks in /usr/local/lib/python3.6/dist-packages (0.0.1)\n"
          ],
          "name": "stdout"
        }
      ]
    },
    {
      "cell_type": "code",
      "metadata": {
        "id": "6fXZf-eQTetc",
        "colab_type": "code",
        "colab": {
          "base_uri": "https://localhost:8080/",
          "height": 493
        },
        "outputId": "37488ab9-cdd0-434b-85e4-325a3c4421f7"
      },
      "source": [
        "import gender_guesser.detector as gender\n",
        "from gender import GenderDetector\n",
        "from genderize import Genderize\n",
        "\n",
        "def predict_gender_combined(name_input):\n",
        "  print(f'Input name: {name_input}\\n')\n",
        "  d_1 = gender.Detector()\n",
        "  d_2=GenderDetector()\n",
        "\n",
        "  g_1=d_1.get_gender(name_input)\n",
        "  g_2=d_2.get_gender(name_input)\n",
        "  g_3= Genderize().get([name_input])\n",
        "  print(f'Gender estimates:\\n {g_1}\\n{g_2}\\n{g_3}')\n",
        "  print('---------------')\n",
        "  return (g_1,g_2,g_3)\n",
        "\n",
        "name_list=[\"Animashree\",\"Joe\",\"Karen\",\"Vinay\"]\n",
        "for name in name_list:\n",
        "  _=predict_gender_combined(name)"
      ],
      "execution_count": 2,
      "outputs": [
        {
          "output_type": "stream",
          "text": [
            "Input name: Animashree\n",
            "\n",
            "Gender estimates:\n",
            " unknown\n",
            "Person(title=None, first_name=None, last_name='animashree', email=None, gender=None)\n",
            "[{'name': 'Animashree', 'gender': None, 'probability': 0.0, 'count': 0}]\n",
            "---------------\n",
            "Input name: Joe\n",
            "\n",
            "Gender estimates:\n",
            " male\n",
            "Person(title=None, first_name='joe', last_name=None, email=None, gender='m')\n",
            "[{'name': 'Joe', 'gender': 'male', 'probability': 0.95, 'count': 58829}]\n",
            "---------------\n",
            "Input name: Karen\n",
            "\n",
            "Gender estimates:\n",
            " female\n",
            "Person(title=None, first_name='karen', last_name=None, email=None, gender='f')\n",
            "[{'name': 'Karen', 'gender': 'female', 'probability': 0.95, 'count': 48557}]\n",
            "---------------\n",
            "Input name: Vinay\n",
            "\n",
            "Gender estimates:\n",
            " male\n",
            "Person(title=None, first_name='vinay', last_name=None, email=None, gender='m')\n",
            "[{'name': 'Vinay', 'gender': 'male', 'probability': 0.99, 'count': 2065}]\n",
            "---------------\n"
          ],
          "name": "stdout"
        }
      ]
    },
    {
      "cell_type": "markdown",
      "metadata": {
        "id": "ywfSR78wg4bZ",
        "colab_type": "text"
      },
      "source": [
        " Question: \n",
        " \n",
        " Does this constitute a corner case or reflection of the 'angry woman on twitter' stereotype?"
      ]
    },
    {
      "cell_type": "code",
      "metadata": {
        "id": "G7OgHRbjdIIp",
        "colab_type": "code",
        "colab": {
          "base_uri": "https://localhost:8080/",
          "height": 119
        },
        "outputId": "e5c568d2-80bf-41dd-acc3-e6aeabce3f49"
      },
      "source": [
        "from speks import predict_gender_by_tweets\n",
        "# Algo logic:\n",
        "# weights = sum([weigh(t, tokens) for t in set(tokens)])\n",
        "# p = sin(-0.06724152 + weights)\n",
        "# if p >= 0:\n",
        "#     # Female\n",
        "#     return 1\n",
        "# else:\n",
        "#     # Male\n",
        "#     return 0\n",
        "def predict_gender_tweet(input_tweet):\n",
        "\n",
        "  print(f'The input tweet is : {input_tweet}')\n",
        "  gender_pred = predict_gender_by_tweets(\" \".join([f\"{input_tweet}\"]))\n",
        "  if(gender_pred==0):\n",
        "    gender_str=\"Male\"\n",
        "  else:\n",
        "    gender_str=\"Female\"\n",
        "  print(f'The predicted gender is {gender_str} \\n -------')\n",
        "  return gender_str\n",
        "\n",
        "\n",
        "\n",
        "tweet_list=[\"I am calm and collected\", \"I am so angry!\"]\n",
        "for twt in tweet_list:\n",
        "  _=predict_gender_tweet(twt)\n"
      ],
      "execution_count": 3,
      "outputs": [
        {
          "output_type": "stream",
          "text": [
            "The input tweet is : I am calm and collected\n",
            "The predicted gender is Male \n",
            " -------\n",
            "The input tweet is : I am so angry!\n",
            "The predicted gender is Female \n",
            " -------\n"
          ],
          "name": "stdout"
        }
      ]
    }
  ]
}