{
  "nbformat": 4,
  "nbformat_minor": 0,
  "metadata": {
    "colab": {
      "name": "Gradio_NSFW",
      "provenance": [],
      "collapsed_sections": [],
      "include_colab_link": true
    },
    "kernelspec": {
      "name": "python3",
      "display_name": "Python 3"
    }
  },
  "cells": [
    {
      "cell_type": "markdown",
      "metadata": {
        "id": "view-in-github",
        "colab_type": "text"
      },
      "source": [
        "<a href=\"https://colab.research.google.com/github/vinayprabhu/Crimes_of_Vison_Datasets/blob/master/Notebooks/Notebook_5b_Onion_Gradio_NSFW.ipynb\" target=\"_parent\"><img src=\"https://colab.research.google.com/assets/colab-badge.svg\" alt=\"Open In Colab\"/></a>"
      ]
    },
    {
      "cell_type": "markdown",
      "metadata": {
        "id": "DdY5HBY2bebJ"
      },
      "source": [
        "## Using Gradio to wrap an image to label interface around Inception Net.\n",
        "Check out the library on [github](https://github.com/gradio-app/gradio-UI) and see the [getting started](https://gradio.app/getting_started.html) page for more demos."
      ]
    },
    {
      "cell_type": "code",
      "metadata": {
        "id": "4vjrohKFKt-0",
        "outputId": "aa49c51e-6276-406c-9cff-c235161ee8c2",
        "colab": {
          "base_uri": "https://localhost:8080/",
          "height": 102
        }
      },
      "source": [
        "!pip install --quiet gradio "
      ],
      "execution_count": 1,
      "outputs": [
        {
          "output_type": "stream",
          "text": [
            "\u001b[K     |████████████████████████████████| 1.0MB 2.7MB/s \n",
            "\u001b[K     |████████████████████████████████| 215kB 9.9MB/s \n",
            "\u001b[K     |████████████████████████████████| 962kB 12.7MB/s \n",
            "\u001b[K     |████████████████████████████████| 2.6MB 23.5MB/s \n",
            "\u001b[K     |████████████████████████████████| 71kB 9.8MB/s \n",
            "\u001b[?25h"
          ],
          "name": "stdout"
        }
      ]
    },
    {
      "cell_type": "code",
      "metadata": {
        "id": "SfczgBYqKc3U"
      },
      "source": [
        "import gradio as gr\n",
        "import tensorflow as tf\n",
        "import numpy as np\n",
        "import requests"
      ],
      "execution_count": 2,
      "outputs": []
    },
    {
      "cell_type": "code",
      "metadata": {
        "id": "UzMihk6PI0UF",
        "outputId": "cfeb682d-db53-4d4c-f4af-5f167aad1911",
        "colab": {
          "base_uri": "https://localhost:8080/",
          "height": 136
        }
      },
      "source": [
        "!git clone https://github.com/GantMan/nsfw_model.git"
      ],
      "execution_count": 3,
      "outputs": [
        {
          "output_type": "stream",
          "text": [
            "Cloning into 'nsfw_model'...\n",
            "remote: Enumerating objects: 101, done.\u001b[K\n",
            "remote: Counting objects: 100% (101/101), done.\u001b[K\n",
            "remote: Compressing objects: 100% (70/70), done.\u001b[K\n",
            "remote: Total 394 (delta 47), reused 67 (delta 24), pack-reused 293\u001b[K\n",
            "Receiving objects: 100% (394/394), 387.67 KiB | 835.00 KiB/s, done.\n",
            "Resolving deltas: 100% (200/200), done.\n"
          ],
          "name": "stdout"
        }
      ]
    },
    {
      "cell_type": "code",
      "metadata": {
        "id": "3V9bP-B_JV7l",
        "outputId": "7df7766f-3e09-41f5-c6c7-b5a061a10ab1",
        "colab": {
          "base_uri": "https://localhost:8080/",
          "height": 204
        }
      },
      "source": [
        "!wget https://s3.amazonaws.com/ir_public/nsfwjscdn/nsfw_mobilenet2.224x224.h5"
      ],
      "execution_count": 4,
      "outputs": [
        {
          "output_type": "stream",
          "text": [
            "--2020-10-09 02:52:34--  https://s3.amazonaws.com/ir_public/nsfwjscdn/nsfw_mobilenet2.224x224.h5\n",
            "Resolving s3.amazonaws.com (s3.amazonaws.com)... 52.216.227.123\n",
            "Connecting to s3.amazonaws.com (s3.amazonaws.com)|52.216.227.123|:443... connected.\n",
            "HTTP request sent, awaiting response... 200 OK\n",
            "Length: 10956472 (10M) [application/x-www-form-urlencoded]\n",
            "Saving to: ‘nsfw_mobilenet2.224x224.h5’\n",
            "\n",
            "nsfw_mobilenet2.224 100%[===================>]  10.45M  4.69MB/s    in 2.2s    \n",
            "\n",
            "2020-10-09 02:52:37 (4.69 MB/s) - ‘nsfw_mobilenet2.224x224.h5’ saved [10956472/10956472]\n",
            "\n"
          ],
          "name": "stdout"
        }
      ]
    },
    {
      "cell_type": "code",
      "metadata": {
        "id": "Ag8_KhdRI6qg",
        "outputId": "f14e1dc3-33f1-447d-9e71-38597434db22",
        "colab": {
          "base_uri": "https://localhost:8080/",
          "height": 54
        }
      },
      "source": [
        "import sys\n",
        "import os\n",
        "nsfw_dir=os.path.join(os.getcwd(),'nsfw_model')\n",
        "sys.path.insert(0,nsfw_dir)\n",
        "from nsfw_detector import predict\n",
        "model_path='nsfw_mobilenet2.224x224.h5'\n",
        "model=predict.load_model(model_path)"
      ],
      "execution_count": 5,
      "outputs": [
        {
          "output_type": "stream",
          "text": [
            "WARNING:tensorflow:Error in loading the saved optimizer state. As a result, your model is starting with a freshly initialized optimizer.\n"
          ],
          "name": "stdout"
        }
      ]
    },
    {
      "cell_type": "code",
      "metadata": {
        "id": "2lLBfmUvJz4m",
        "outputId": "f09babce-160c-4d80-92b4-dcb4d23afd1e",
        "colab": {
          "base_uri": "https://localhost:8080/",
          "height": 54
        }
      },
      "source": [
        "from nsfw_detector import predict\n",
        "import matplotlib.pyplot as plt\n",
        "from PIL import Image\n",
        "model = predict.load_model('./nsfw_mobilenet2.224x224.h5')\n",
        "\n",
        "def classify_image_2(image_arr):\n",
        "  im = Image.fromarray(image_arr)\n",
        "  im.save(\"your_file.jpeg\")  \n",
        "  # Predict single image\n",
        "  prediction = predict.classify(model, \"your_file.jpeg\")\n",
        "  print(prediction['your_file.jpeg'])\n",
        "  return prediction['your_file.jpeg']"
      ],
      "execution_count": 6,
      "outputs": [
        {
          "output_type": "stream",
          "text": [
            "WARNING:tensorflow:Error in loading the saved optimizer state. As a result, your model is starting with a freshly initialized optimizer.\n"
          ],
          "name": "stdout"
        }
      ]
    },
    {
      "cell_type": "markdown",
      "metadata": {
        "id": "9YnST63vV9MD"
      },
      "source": [
        "**Build a shareable UI in 3 lines of code!**"
      ]
    },
    {
      "cell_type": "code",
      "metadata": {
        "id": "u3tpADRuMF1d",
        "outputId": "9d194beb-98f3-4c9c-af3e-9c8de8be0703",
        "colab": {
          "base_uri": "https://localhost:8080/",
          "height": 609
        }
      },
      "source": [
        "image = gr.inputs.Image()\n",
        "label = gr.outputs.Label(num_top_classes=5)\n",
        "\n",
        "gr.Interface(\n",
        "    classify_image_2, \n",
        "    image, \n",
        "    label,\n",
        "    capture_session=True, interpretation=\"default\").launch();"
      ],
      "execution_count": 7,
      "outputs": [
        {
          "output_type": "stream",
          "text": [
            "Colab notebook detected. To show errors in colab notebook, set debug=True in launch()\n",
            "This share link will expire in 6 hours. If you need a permanent link, email support@gradio.app\n",
            "Running on External URL: https://38137.gradio.app\n",
            "Interface loading below...\n"
          ],
          "name": "stdout"
        },
        {
          "output_type": "display_data",
          "data": {
            "text/html": [
              "\n",
              "        <iframe\n",
              "            width=\"1000\"\n",
              "            height=\"500\"\n",
              "            src=\"https://38137.gradio.app\"\n",
              "            frameborder=\"0\"\n",
              "            allowfullscreen\n",
              "        ></iframe>\n",
              "        "
            ],
            "text/plain": [
              "<IPython.lib.display.IFrame at 0x7f1a5980e908>"
            ]
          },
          "metadata": {
            "tags": []
          }
        }
      ]
    },
    {
      "cell_type": "markdown",
      "metadata": {
        "id": "VsYULBhZhc0M"
      },
      "source": [
        "#### The model is now live on the gradio.app link shown above. Go ahead and open that in a new tab!"
      ]
    },
    {
      "cell_type": "markdown",
      "metadata": {
        "id": "xn27MzU0hdS2"
      },
      "source": [
        "Please contact us [here](mailto:team@gradio.app) if you have any questions, or [open an issue](https://github.com/gradio-app/gradio-UI/issues/new/choose) at our github repo.\n",
        "\n"
      ]
    }
  ]
}