{
  "nbformat": 4,
  "nbformat_minor": 0,
  "metadata": {
    "colab": {
      "name": "ml_images_unsafe.ipynb",
      "provenance": [],
      "mount_file_id": "1LYyHBfY8OVjPLxKo42-kjVbM8DmTTspt",
      "authorship_tag": "ABX9TyOH98H0Ty6bQzF2RnBTZM/s",
      "include_colab_link": true
    },
    "kernelspec": {
      "name": "python3",
      "display_name": "Python 3"
    }
  },
  "cells": [
    {
      "cell_type": "markdown",
      "metadata": {
        "id": "view-in-github",
        "colab_type": "text"
      },
      "source": [
        "<a href=\"https://colab.research.google.com/github/vinayprabhu/Crimes_of_Vison_Datasets/blob/master/Notebooks/Notebook_4_ml_images_unsafe.ipynb\" target=\"_parent\"><img src=\"https://colab.research.google.com/assets/colab-badge.svg\" alt=\"Open In Colab\"/></a>"
      ]
    },
    {
      "cell_type": "markdown",
      "metadata": {
        "id": "FVV04p9EWCY6",
        "colab_type": "text"
      },
      "source": [
        "# Introduction:\n",
        "\n",
        "This notebook pertains to the details of the 'Unsafe sysnsets / classes' that seeped into the Tencent ML images dataset (via the Wordnet-fuelled taxonomy building)\n",
        "\n",
        "Paper link: https://arxiv.org/pdf/1901.01703.pdf\n",
        "\n",
        "## 1: How did they get here?\n",
        "\n",
        "As stated in Section 3.2 of the paper above, _We firstly map the categories of Tencent ML-Images\n",
        "to the WordIDs in WordNet. According to the WordIDs,\n",
        "we construct the semantic hierarchy among these 11,166\n",
        "categories. It include 4 independent trees, of which the\n",
        "root nodes are thing, matter, physical object and atmospheric\n",
        "phenomenon, respectively_\n",
        "\n",
        "### 1b: Timeline:\n",
        "\n",
        "- Sep 2020 : Excavating AI work appears (Earliest snapshot here: https://web.archive.org/web/20190918165259/https://www.excavating.ai/)\n",
        "\n",
        "- 30 Jan 2020 : FACCT* paper _Towards fairer datasets: filtering and balancing the distribution of the people subtree in the ImageNet hierarchy_ published disseminating the the 1593 'unsafe synsets' in the ImageNet dataset\n",
        "- 9 Feb 2020 : Tencent ML-Image paper's latest updated version appears on ArXiV here: https://arxiv.org/pdf/1901.01703.pdf ( Still including all the unsafe synsets ) \n",
        "\n",
        "## 2: Data sources:\n",
        "\n",
        "- Unsafe synsets URL:  http://image-net.org/filtering-and-balancing/unsafe_synsets.txt - Contains the 1593 'unsafe synsets' that the ImageNet curators admitted in the paper shared here: https://gfx.cs.princeton.edu/pubs/Yang_2020_TFD/index.php\n",
        "- Classes in ML-Images: https://raw.githubusercontent.com/Tencent/tencent-ml-images/master/data/dictionary_and_semantic_hierarchy.txt - Contains the 11,166 classes in the Tencent ML - Images dataset\n",
        "\n",
        "Either _wget_ them locally or just pass the URLs to pandas read_csv method to pull in the data"
      ]
    },
    {
      "cell_type": "code",
      "metadata": {
        "id": "_OWFcdfq4H7I",
        "colab_type": "code",
        "colab": {}
      },
      "source": [
        "import pandas as pd"
      ],
      "execution_count": 1,
      "outputs": []
    },
    {
      "cell_type": "markdown",
      "metadata": {
        "id": "YvbG71uK5UAi",
        "colab_type": "text"
      },
      "source": [
        "\n"
      ]
    },
    {
      "cell_type": "code",
      "metadata": {
        "id": "LntB8ssU4c8s",
        "colab_type": "code",
        "colab": {
          "base_uri": "https://localhost:8080/",
          "height": 34
        },
        "outputId": "c1e186aa-87d5-45d5-d7ac-1cf82f48df6c"
      },
      "source": [
        "url_unsafe_synsets_imagenet='http://image-net.org/filtering-and-balancing/unsafe_synsets.txt'\n",
        "url_ml='https://raw.githubusercontent.com/Tencent/tencent-ml-images/master/data/dictionary_and_semantic_hierarchy.txt'\n",
        "# 1: Read the Unsafe classes from the ImageNet portal\n",
        "df=pd.read_csv(url_unsafe_synsets_imagenet,header=None)\n",
        "print(df.shape)\n",
        "synsets_unsafe=df[0].values"
      ],
      "execution_count": 2,
      "outputs": [
        {
          "output_type": "stream",
          "text": [
            "(1593, 1)\n"
          ],
          "name": "stdout"
        }
      ]
    },
    {
      "cell_type": "code",
      "metadata": {
        "id": "UVSmteiFGnNw",
        "colab_type": "code",
        "colab": {
          "base_uri": "https://localhost:8080/",
          "height": 221
        },
        "outputId": "41b9ba64-acb8-4de7-bbe3-e1837decd583"
      },
      "source": [
        "df_ml=pd.read_csv(url_ml,delimiter='\t')\n",
        "print(df_ml.shape)\n",
        "df_ml.head()"
      ],
      "execution_count": 3,
      "outputs": [
        {
          "output_type": "stream",
          "text": [
            "(11166, 4)\n"
          ],
          "name": "stdout"
        },
        {
          "output_type": "execute_result",
          "data": {
            "text/html": [
              "<div>\n",
              "<style scoped>\n",
              "    .dataframe tbody tr th:only-of-type {\n",
              "        vertical-align: middle;\n",
              "    }\n",
              "\n",
              "    .dataframe tbody tr th {\n",
              "        vertical-align: top;\n",
              "    }\n",
              "\n",
              "    .dataframe thead th {\n",
              "        text-align: right;\n",
              "    }\n",
              "</style>\n",
              "<table border=\"1\" class=\"dataframe\">\n",
              "  <thead>\n",
              "    <tr style=\"text-align: right;\">\n",
              "      <th></th>\n",
              "      <th>category_index</th>\n",
              "      <th>category_id</th>\n",
              "      <th>index_of_parent_category</th>\n",
              "      <th>category name</th>\n",
              "    </tr>\n",
              "  </thead>\n",
              "  <tbody>\n",
              "    <tr>\n",
              "      <th>0</th>\n",
              "      <td>0</td>\n",
              "      <td>n00002452</td>\n",
              "      <td>-1</td>\n",
              "      <td>thing</td>\n",
              "    </tr>\n",
              "    <tr>\n",
              "      <th>1</th>\n",
              "      <td>1</td>\n",
              "      <td>n00020827</td>\n",
              "      <td>-1</td>\n",
              "      <td>matter</td>\n",
              "    </tr>\n",
              "    <tr>\n",
              "      <th>2</th>\n",
              "      <td>2</td>\n",
              "      <td>n00002684</td>\n",
              "      <td>-1</td>\n",
              "      <td>object, physical object</td>\n",
              "    </tr>\n",
              "    <tr>\n",
              "      <th>3</th>\n",
              "      <td>3</td>\n",
              "      <td>n11425580</td>\n",
              "      <td>-1</td>\n",
              "      <td>atmospheric phenomenon</td>\n",
              "    </tr>\n",
              "    <tr>\n",
              "      <th>4</th>\n",
              "      <td>4</td>\n",
              "      <td>n05220461</td>\n",
              "      <td>0</td>\n",
              "      <td>body part</td>\n",
              "    </tr>\n",
              "  </tbody>\n",
              "</table>\n",
              "</div>"
            ],
            "text/plain": [
              "   category_index  ...            category name\n",
              "0               0  ...                    thing\n",
              "1               1  ...                   matter\n",
              "2               2  ...  object, physical object\n",
              "3               3  ...   atmospheric phenomenon\n",
              "4               4  ...                body part\n",
              "\n",
              "[5 rows x 4 columns]"
            ]
          },
          "metadata": {
            "tags": []
          },
          "execution_count": 3
        }
      ]
    },
    {
      "cell_type": "code",
      "metadata": {
        "id": "vxsYNuZZG-OT",
        "colab_type": "code",
        "colab": {}
      },
      "source": [
        "synsets_ml=df_ml.category_id.values"
      ],
      "execution_count": 4,
      "outputs": []
    },
    {
      "cell_type": "code",
      "metadata": {
        "id": "xh9xRxeZG_uU",
        "colab_type": "code",
        "colab": {
          "base_uri": "https://localhost:8080/",
          "height": 34
        },
        "outputId": "cbb2c9a9-ef76-4d30-95d9-daa77b3020ee"
      },
      "source": [
        "df_ml_unsafe=df_ml.loc[df_ml.category_id.isin(synsets_unsafe)]\n",
        "df_ml_unsafe.reset_index(inplace=True,drop=True)\n",
        "df_ml_unsafe.shape"
      ],
      "execution_count": 5,
      "outputs": [
        {
          "output_type": "execute_result",
          "data": {
            "text/plain": [
              "(315, 4)"
            ]
          },
          "metadata": {
            "tags": []
          },
          "execution_count": 5
        }
      ]
    },
    {
      "cell_type": "code",
      "metadata": {
        "id": "5EPaGpt3LbJC",
        "colab_type": "code",
        "colab": {
          "base_uri": "https://localhost:8080/",
          "height": 204
        },
        "outputId": "0a38e954-3dcf-40e5-a4bb-2e3eff31d56e"
      },
      "source": [
        "df_ml_unsafe.head()"
      ],
      "execution_count": 6,
      "outputs": [
        {
          "output_type": "execute_result",
          "data": {
            "text/html": [
              "<div>\n",
              "<style scoped>\n",
              "    .dataframe tbody tr th:only-of-type {\n",
              "        vertical-align: middle;\n",
              "    }\n",
              "\n",
              "    .dataframe tbody tr th {\n",
              "        vertical-align: top;\n",
              "    }\n",
              "\n",
              "    .dataframe thead th {\n",
              "        text-align: right;\n",
              "    }\n",
              "</style>\n",
              "<table border=\"1\" class=\"dataframe\">\n",
              "  <thead>\n",
              "    <tr style=\"text-align: right;\">\n",
              "      <th></th>\n",
              "      <th>category_index</th>\n",
              "      <th>category_id</th>\n",
              "      <th>index_of_parent_category</th>\n",
              "      <th>category name</th>\n",
              "    </tr>\n",
              "  </thead>\n",
              "  <tbody>\n",
              "    <tr>\n",
              "      <th>0</th>\n",
              "      <td>8493</td>\n",
              "      <td>n09622049</td>\n",
              "      <td>5177</td>\n",
              "      <td>juvenile, juvenile person</td>\n",
              "    </tr>\n",
              "    <tr>\n",
              "      <th>1</th>\n",
              "      <td>8494</td>\n",
              "      <td>n09971273</td>\n",
              "      <td>5177</td>\n",
              "      <td>countrywoman</td>\n",
              "    </tr>\n",
              "    <tr>\n",
              "      <th>2</th>\n",
              "      <td>8496</td>\n",
              "      <td>n09621232</td>\n",
              "      <td>5177</td>\n",
              "      <td>native</td>\n",
              "    </tr>\n",
              "    <tr>\n",
              "      <th>3</th>\n",
              "      <td>8498</td>\n",
              "      <td>n09620794</td>\n",
              "      <td>5177</td>\n",
              "      <td>native, indigen, indigene, aborigine, aboriginal</td>\n",
              "    </tr>\n",
              "    <tr>\n",
              "      <th>4</th>\n",
              "      <td>8499</td>\n",
              "      <td>n09727440</td>\n",
              "      <td>5177</td>\n",
              "      <td>Filipino</td>\n",
              "    </tr>\n",
              "  </tbody>\n",
              "</table>\n",
              "</div>"
            ],
            "text/plain": [
              "   category_index  ...                                     category name\n",
              "0            8493  ...                         juvenile, juvenile person\n",
              "1            8494  ...                                      countrywoman\n",
              "2            8496  ...                                            native\n",
              "3            8498  ...  native, indigen, indigene, aborigine, aboriginal\n",
              "4            8499  ...                                          Filipino\n",
              "\n",
              "[5 rows x 4 columns]"
            ]
          },
          "metadata": {
            "tags": []
          },
          "execution_count": 6
        }
      ]
    },
    {
      "cell_type": "code",
      "metadata": {
        "id": "BUnUaSvLivH_",
        "colab_type": "code",
        "colab": {}
      },
      "source": [
        "df_ml_unsafe.to_csv('df_ml_unsafe.csv',index=False)"
      ],
      "execution_count": 7,
      "outputs": []
    },
    {
      "cell_type": "code",
      "metadata": {
        "id": "CaBhB8_QL9JV",
        "colab_type": "code",
        "colab": {}
      },
      "source": [
        "# url_wordnet='https://www.cs.princeton.edu/courses/archive/spring20/cos226/assignments/wordnet/files/synsets.txt'\n",
        "# df_wordnet=pd.read_csv(url_wordnet,header=None,usecols=np.arange(3))\n",
        "# df_wordnet.columns=['class_num','class_name','class_descrp']\n",
        "# print(df_wordnet.shape) # (82192, 3)\n",
        "# df_wordnet.to_csv('df_wordnet_3.csv',index=False)"
      ],
      "execution_count": 8,
      "outputs": []
    }
  ]
}